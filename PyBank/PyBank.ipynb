{
 "cells": [
  {
   "cell_type": "code",
   "execution_count": 61,
   "id": "807301ee-2443-4b14-909a-4dc09f57d72f",
   "metadata": {},
   "outputs": [],
   "source": [
    "# Import Libraries\n",
    "import sys\n",
    "from pathlib import Path\n",
    "import csv"
   ]
  },
  {
   "cell_type": "code",
   "execution_count": 62,
   "id": "29f6b79e",
   "metadata": {},
   "outputs": [],
   "source": [
    "csvpath = Path(r\"C:\\Users\\kurtc\\OneDrive\\Desktop\\FinTech Course Notes\\Units\\2. Python\\Assignment\\python-homework\\PyBank\\budget_data.csv\")"
   ]
  },
  {
   "cell_type": "code",
   "execution_count": 63,
   "id": "3cb947f8-bcf7-4b99-8ce0-da95cad7ac9d",
   "metadata": {},
   "outputs": [],
   "source": [
    "# Initialize variables\n",
    "months = 0\n",
    "net_profit_loss = 0\n",
    "most_profit = 0\n",
    "most_profit_date = 0\n",
    "most_loss = 0\n",
    "most_loss_date =0\n",
    "avg_change = 0"
   ]
  },
  {
   "cell_type": "code",
   "execution_count": 64,
   "id": "5d6c692d-82a3-4364-b88a-cc45bb9f4413",
   "metadata": {},
   "outputs": [],
   "source": [
    "# Open the CSV file as an object\n",
    "with open(csvpath, \"r\") as csvfile:\n",
    "    \n",
    "    # Allow the csv.reader() function to read the csv file\n",
    "    # Place a delimiter to seperate data using ',' as the delimiter\n",
    "    csvreader = csv.reader(csvfile, delimiter=',')\n",
    "    \n",
    "    # Distinguish the header row from other data\n",
    "    csv_header = next(csvreader)\n",
    "    \n",
    "    #Read each row after the header\n",
    "    for row in csvreader:\n",
    "        \n",
    "        # Set the variables for Date and Profit/Losses\n",
    "        date = row[0]\n",
    "        profit_loss = int(row[1])\n",
    "        \n",
    "        # Count the number of months in file\n",
    "        months += 1\n",
    "\n",
    "        # Net total amount of profit/losses over the total period\n",
    "        net_profit_loss += profit_loss\n",
    "        \n",
    "        # Calculate average change\n",
    "        avg_change = round(net_profit_loss / months, 2)\n",
    "\n",
    "        # Least profitable day\n",
    "        if most_loss == 0:\n",
    "            most_loss = profit_loss\n",
    "        elif profit_loss < most_loss:\n",
    "            most_loss = profit_loss\n",
    "            most_loss_date = date\n",
    "            \n",
    "        # Most profitable day\n",
    "        elif profit_loss > most_profit:\n",
    "            most_profit = profit_loss\n",
    "            most_profitable_date = date"
   ]
  },
  {
   "cell_type": "code",
   "execution_count": null,
   "id": "7b177b74-8f90-4030-ba33-c30edfc2fdfa",
   "metadata": {},
   "outputs": [],
   "source": [
    "# Save a reference to the original output\n",
    "original_stdout = sys.stdout\n",
    "\n",
    "# Re-direct the output to the file that will be getting written\n",
    "with open('Business Financial Analysis.txt', 'w') as f:\n",
    "    sys.stdout = f\n",
    "    print('Financial Analysis')\n",
    "    print('Total Months:', months)\n",
    "    print('Total: $', net_profit_loss)\n",
    "    print('Average Change: $', avg_change)\n",
    "    print('Greatest Profit: $', most_profit)\n",
    "    print('Greatest Loss: $', most_loss)\n",
    "\n",
    "# Re-direct the output to the original output    \n",
    "sys.stdout = original_stdout\n",
    "\n",
    "# Checking output is back to original\n",
    "print('Hi')"
   ]
  }
 ],
 "metadata": {
  "kernelspec": {
   "display_name": "Python 3 (ipykernel)",
   "language": "python",
   "name": "python3"
  },
  "language_info": {
   "codemirror_mode": {
    "name": "ipython",
    "version": 3
   },
   "file_extension": ".py",
   "mimetype": "text/x-python",
   "name": "python",
   "nbconvert_exporter": "python",
   "pygments_lexer": "ipython3",
   "version": "3.9.7"
  }
 },
 "nbformat": 4,
 "nbformat_minor": 5
}
