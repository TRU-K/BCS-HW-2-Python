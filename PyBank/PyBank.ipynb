{
 "cells": [
  {
   "cell_type": "code",
   "execution_count": 116,
   "id": "807301ee-2443-4b14-909a-4dc09f57d72f",
   "metadata": {},
   "outputs": [],
   "source": [
    "# Import Libraries\n",
    "from pathlib import Path\n",
    "import csv"
   ]
  },
  {
   "cell_type": "code",
   "execution_count": 117,
   "id": "29f6b79e",
   "metadata": {},
   "outputs": [],
   "source": [
    "csvpath = Path(r\"C:\\Users\\kurtc\\OneDrive\\Desktop\\FinTech Course Notes\\Units\\2. Python\\Assignment\\python-homework\\PyBank\\budget_data.csv\")"
   ]
  },
  {
   "cell_type": "code",
   "execution_count": 144,
   "id": "3cb947f8-bcf7-4b99-8ce0-da95cad7ac9d",
   "metadata": {},
   "outputs": [],
   "source": [
    "# Initialize variables\n",
    "months = 0\n",
    "net_profit_loss = 0\n",
    "most_profit = 0\n",
    "most_loss = 0\n",
    "avg_change = 0"
   ]
  },
  {
   "cell_type": "code",
   "execution_count": 145,
   "id": "5d6c692d-82a3-4364-b88a-cc45bb9f4413",
   "metadata": {},
   "outputs": [],
   "source": [
    "# Open the CSV file as an object\n",
    "with open(csvpath, \"r\") as csvfile:\n",
    "    \n",
    "    # Allow the csv.reader() function to read the csv file\n",
    "    # Place a delimiter to seperate data using ',' as the delimiter\n",
    "    csvreader = csv.reader(csvfile, delimiter=',')\n",
    "    \n",
    "    # Distinguish the header row from other data\n",
    "    csv_header = next(csvreader)\n",
    "    \n",
    "    #Read each row after the header\n",
    "    for row in csvreader:\n",
    "        \n",
    "        # Set the variables for Date and Profit/Losses\n",
    "        date = row[0]\n",
    "        profit_loss = int(row[1])\n",
    "        \n",
    "        # Count the number of months in file\n",
    "        months += 1\n",
    "\n",
    "        # Net total amount of profit/losses over the total period\n",
    "        net_profit_loss += profit_loss\n",
    "        \n",
    "        # Calculate average change\n",
    "        avg_change = round(net_profit_loss / months, 2)\n",
    "\n",
    "        # Least profitable day\n",
    "        if most_loss == 0:\n",
    "            most_loss = profit_loss\n",
    "        elif profit_loss < most_loss:\n",
    "            most_loss = profit_loss\n",
    "            \n",
    "        # Most profitable day\n",
    "        elif profit_loss > most_profit:\n",
    "            most_profit = profit_loss"
   ]
  },
  {
   "cell_type": "code",
   "execution_count": 146,
   "id": "dda18e03-93cd-4342-a771-56195632370e",
   "metadata": {},
   "outputs": [
    {
     "data": {
      "text/plain": [
       "38382578"
      ]
     },
     "execution_count": 146,
     "metadata": {},
     "output_type": "execute_result"
    }
   ],
   "source": [
    "net_profit_loss"
   ]
  },
  {
   "cell_type": "code",
   "execution_count": 147,
   "id": "1c63658d-a78f-445e-a363-58bff87dec4f",
   "metadata": {},
   "outputs": [
    {
     "data": {
      "text/plain": [
       "446309.05"
      ]
     },
     "execution_count": 147,
     "metadata": {},
     "output_type": "execute_result"
    }
   ],
   "source": [
    "avg_change"
   ]
  },
  {
   "cell_type": "code",
   "execution_count": 148,
   "id": "44e906a3-0165-4061-87b1-69256a5c5f10",
   "metadata": {},
   "outputs": [
    {
     "data": {
      "text/plain": [
       "1170593"
      ]
     },
     "execution_count": 148,
     "metadata": {},
     "output_type": "execute_result"
    }
   ],
   "source": [
    "most_profit"
   ]
  },
  {
   "cell_type": "code",
   "execution_count": 149,
   "id": "dd622d62-a9ff-40a9-b5d6-07d9d20b6f8d",
   "metadata": {},
   "outputs": [
    {
     "data": {
      "text/plain": [
       "-1196225"
      ]
     },
     "execution_count": 149,
     "metadata": {},
     "output_type": "execute_result"
    }
   ],
   "source": [
    "most_loss"
   ]
  },
  {
   "cell_type": "code",
   "execution_count": 138,
   "id": "04043830-f7bd-4aae-9aaf-557e168cd915",
   "metadata": {},
   "outputs": [
    {
     "data": {
      "text/plain": [
       "86"
      ]
     },
     "execution_count": 138,
     "metadata": {},
     "output_type": "execute_result"
    }
   ],
   "source": [
    "months"
   ]
  },
  {
   "cell_type": "code",
   "execution_count": null,
   "id": "27be92e6-6d26-435d-af8a-0521e59e3725",
   "metadata": {},
   "outputs": [],
   "source": []
  }
 ],
 "metadata": {
  "kernelspec": {
   "display_name": "Python 3 (ipykernel)",
   "language": "python",
   "name": "python3"
  },
  "language_info": {
   "codemirror_mode": {
    "name": "ipython",
    "version": 3
   },
   "file_extension": ".py",
   "mimetype": "text/x-python",
   "name": "python",
   "nbconvert_exporter": "python",
   "pygments_lexer": "ipython3",
   "version": "3.9.7"
  }
 },
 "nbformat": 4,
 "nbformat_minor": 5
}
